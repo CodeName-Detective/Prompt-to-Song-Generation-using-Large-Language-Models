{
 "cells": [
  {
   "cell_type": "code",
   "execution_count": 1,
   "metadata": {},
   "outputs": [],
   "source": [
    "from src.process import get_output"
   ]
  },
  {
   "cell_type": "code",
   "execution_count": 2,
   "metadata": {},
   "outputs": [],
   "source": [
    "import pandas as pd"
   ]
  },
  {
   "cell_type": "code",
   "execution_count": 3,
   "metadata": {},
   "outputs": [],
   "source": [
    "df = pd.read_csv('data/prompt_golden_data.csv')"
   ]
  },
  {
   "cell_type": "code",
   "execution_count": 4,
   "metadata": {},
   "outputs": [
    {
     "data": {
      "text/plain": [
       "Index(['genres', 'progression', 'start_key', 'processed_lyrics', 'prompts'], dtype='object')"
      ]
     },
     "execution_count": 4,
     "metadata": {},
     "output_type": "execute_result"
    }
   ],
   "source": [
    "df.columns"
   ]
  },
  {
   "cell_type": "code",
   "execution_count": 5,
   "metadata": {},
   "outputs": [
    {
     "data": {
      "text/plain": [
       "\"\\nWe were inseparable \\n Everything I had to do I did it next to you \\nAnd the memories we made were so incredible \\nThen our love was interrupted by my schedule \\nThere was nothing that I could do \\nCause you fell into the deepest depression baby \\nAnd I hate to know I'm responsible \\nAnd your heart filled up with so much aggression baby \\nYou got used to \\n\\nBeing alone\\nalone \\nYou adapted\\nnow your use to \\nBeing alone\\nall alone \\nOoo you got used too being on your own \\n\\nI saw it happenin' \\nBut I didn't accept the truth\\nI couldn't fathom it \\nThere was so much going on you couldn't handle it \\nCould have divided my time\\nI should have fractioned it \\nBut there was nothing that I could do \\nCause you fell into the deepest depression baby \\nAnd I hate to know I'm responsible \\nAnd your heart filled up with so much aggression baby \\nYou got used to \\n\\nBeing alone\\nalone (all alone) \\nYou adapted (you adapted)\\nnow your use to \\nBeing alone\\nall alone (didn't mean to leave you lonely girl) \\nOoo you got used too being (used to) on your own (all on your own) \\n\\\\t\\\\t  \\\\n\""
      ]
     },
     "execution_count": 5,
     "metadata": {},
     "output_type": "execute_result"
    }
   ],
   "source": [
    "df['processed_lyrics'].iloc[0]"
   ]
  },
  {
   "cell_type": "code",
   "execution_count": 6,
   "metadata": {},
   "outputs": [
    {
     "data": {
      "text/plain": [
       "'F#m'"
      ]
     },
     "execution_count": 6,
     "metadata": {},
     "output_type": "execute_result"
    }
   ],
   "source": [
    "df['start_key'].iloc[0]"
   ]
  },
  {
   "cell_type": "code",
   "execution_count": 7,
   "metadata": {},
   "outputs": [],
   "source": [
    "import numpy as np\n",
    "import torch"
   ]
  },
  {
   "cell_type": "code",
   "execution_count": 8,
   "metadata": {},
   "outputs": [
    {
     "name": "stdout",
     "output_type": "stream",
     "text": [
      "RHLF\n"
     ]
    }
   ],
   "source": [
    "output_chords, genre = get_output(df['processed_lyrics'].iloc[2], df['start_key'].iloc[2], rhlf=True)"
   ]
  },
  {
   "cell_type": "code",
   "execution_count": 9,
   "metadata": {},
   "outputs": [
    {
     "data": {
      "text/plain": [
       "['Gsus4/A', 'F#5', 'GmtGm']"
      ]
     },
     "execution_count": 9,
     "metadata": {},
     "output_type": "execute_result"
    }
   ],
   "source": [
    "output_chords"
   ]
  },
  {
   "cell_type": "code",
   "execution_count": 10,
   "metadata": {},
   "outputs": [
    {
     "data": {
      "text/plain": [
       "'pop'"
      ]
     },
     "execution_count": 10,
     "metadata": {},
     "output_type": "execute_result"
    }
   ],
   "source": [
    "genre"
   ]
  },
  {
   "cell_type": "code",
   "execution_count": null,
   "metadata": {},
   "outputs": [],
   "source": []
  }
 ],
 "metadata": {
  "kernelspec": {
   "display_name": "Python 3",
   "language": "python",
   "name": "python3"
  },
  "language_info": {
   "codemirror_mode": {
    "name": "ipython",
    "version": 3
   },
   "file_extension": ".py",
   "mimetype": "text/x-python",
   "name": "python",
   "nbconvert_exporter": "python",
   "pygments_lexer": "ipython3",
   "version": "3.12.2"
  }
 },
 "nbformat": 4,
 "nbformat_minor": 2
}

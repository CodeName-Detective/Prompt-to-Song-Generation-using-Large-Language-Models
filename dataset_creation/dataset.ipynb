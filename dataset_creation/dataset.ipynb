{
 "cells": [
  {
   "cell_type": "code",
   "execution_count": 1,
   "metadata": {},
   "outputs": [],
   "source": [
    "import pandas as pd"
   ]
  },
  {
   "cell_type": "code",
   "execution_count": 2,
   "metadata": {},
   "outputs": [],
   "source": [
    "df = pd.read_csv('data/full_song_lyrics.csv')"
   ]
  },
  {
   "cell_type": "code",
   "execution_count": 3,
   "metadata": {},
   "outputs": [
    {
     "data": {
      "text/plain": [
       "Index(['title', 'tag', 'artist', 'year', 'views', 'features', 'lyrics', 'id',\n",
       "       'language_cld3', 'language_ft', 'language'],\n",
       "      dtype='object')"
      ]
     },
     "execution_count": 3,
     "metadata": {},
     "output_type": "execute_result"
    }
   ],
   "source": [
    "df.columns"
   ]
  },
  {
   "cell_type": "code",
   "execution_count": 4,
   "metadata": {},
   "outputs": [],
   "source": [
    "df = df.query('language == \"en\" and language_cld3 == \"en\" and language_ft == \"en\"')"
   ]
  },
  {
   "cell_type": "code",
   "execution_count": 5,
   "metadata": {},
   "outputs": [
    {
     "data": {
      "text/plain": [
       "title                                                    Killa Cam\n",
       "tag                                                            rap\n",
       "artist                                                     Cam'ron\n",
       "year                                                          2004\n",
       "views                                                       173166\n",
       "features                               {\"Cam\\\\'ron\",\"Opera Steve\"}\n",
       "lyrics           [Chorus: Opera Steve & Cam'ron]\\nKilla Cam, Ki...\n",
       "id                                                               1\n",
       "language_cld3                                                   en\n",
       "language_ft                                                     en\n",
       "language                                                        en\n",
       "Name: 0, dtype: object"
      ]
     },
     "execution_count": 5,
     "metadata": {},
     "output_type": "execute_result"
    }
   ],
   "source": [
    "df.iloc[0]"
   ]
  },
  {
   "cell_type": "code",
   "execution_count": 6,
   "metadata": {},
   "outputs": [],
   "source": [
    "df = df[['tag', 'lyrics', 'features']]"
   ]
  },
  {
   "cell_type": "code",
   "execution_count": 7,
   "metadata": {},
   "outputs": [],
   "source": [
    "df.to_csv('data/full_song_lyrics.csv', index=False)"
   ]
  },
  {
   "cell_type": "code",
   "execution_count": 8,
   "metadata": {},
   "outputs": [
    {
     "data": {
      "text/plain": [
       "(3374198, 3)"
      ]
     },
     "execution_count": 8,
     "metadata": {},
     "output_type": "execute_result"
    }
   ],
   "source": [
    "df.shape"
   ]
  },
  {
   "cell_type": "code",
   "execution_count": 10,
   "metadata": {},
   "outputs": [
    {
     "data": {
      "text/plain": [
       "'{\"Cam\\\\\\\\\\'ron\",\"Opera Steve\"}'"
      ]
     },
     "execution_count": 10,
     "metadata": {},
     "output_type": "execute_result"
    }
   ],
   "source": [
    "df['features'].iloc[0]"
   ]
  },
  {
   "cell_type": "code",
   "execution_count": 9,
   "metadata": {},
   "outputs": [
    {
     "data": {
      "text/plain": [
       "'[Chorus: Opera Steve & Cam\\'ron]\\nKilla Cam, Killa Cam, Cam\\nKilla Cam, Killa Cam\\nKilla Cam, Cam\\nKilla Cam, Killa Cam, Cam\\nKilla Killa Killa Cam\\nKilla Cam, Cam, Killa (Killa!)\\nKilla Cam, Killa Cam, Cam (Bases loaded)\\nKilla Cam, Killa Cam (Uh-huh)\\nKilla Cam, Cam (Santana on second, Jim on third)\\nKilla Cam, Killa Cam, Cam (I\\'m at bat)\\nKilla Killa Killa Cam\\nKilla Cam, Cam, Killa (I\\'m \\'bout to hit this shit out the world)\\nKilla Cam (Ugh, Heatmakerz), Killa Cam, Cam\\nKilla Cam, Killa Cam\\nKilla Cam, Cam (Hahahaha)\\nKilla Cam, Killa Cam, Cam\\nKilla Killa Killa Cam\\nKilla Cam, Cam, Killa (We  make this shit clap)\\nKilla Cam, Killa Cam, Cam\\nKilla Cam, Killa Cam\\nKilla Cam, Cam\\nKilla Cam, Killa Cam, Cam\\nKilla Killa Killa Cam (Killa! Killa!)\\nKilla Cam, Cam, Killa\\n[Verse 1]\\nWith the goons I spar, stay in tune with ma (What up?)\\nShe like, \"Damn, this the realest since \\'Kumbaya\\'\"\\nBomaye, Killa Cam, my Lord (My Lord)\\nStill the man with the pan, scrilla, fam, on board\\nNow bitches, they want to neuter me, niggas, they want to tutor me\\nThe hooligan in Houlihan\\'s, maneuvering\\'s nothing new to me\\nDoggy, I\\'m from the land of grind, pan-pan: gram or dime?\\nNot toes or MC when I say \"hammer time\"\\nBeef: I hammer mine, when I get my hands on nines\\nIf I had on \\'Bama line, Corduroys, Cam\\'ll shine\\nCanary burgundy: I call it \"Lemon Red\" (Red)\\nYellow diamonds in my ear, call \\'em \"Lemonheads\"\\nLemonhead, end up dead, ice like Winnipeg\\nGemstone, Flintstones, you could say I\\'m friends with Fred\\nYou unhappy, scrappy? (What\\'s going on, Scrappy?)\\nI got Pataki at me\\nBitches say I\\'m \"Tacky Daddy,\" Range look like Laffy Taffy\\n\\n[Chorus]\\nKilla Cam\\nKilla Cam Cam (sing)\\nKilla Cam Killa Cam\\nKilla Cam Cam (uhh, it\\'s me, clap)\\nKilla Cam\\nKilla Cam Cam\\nKilla Killa Killa Cam (sing)\\nKilla Cam Cam Killa (uhh, it\\'s me, clap)\\nKilla Cam\\nKilla Cam Cam (sing)\\nKilla Cam Killa Cam\\nKilla Cam Cam (clap, it\\'s me)\\nKilla Cam\\nKilla Cam Cam\\nKilla Killa Killa Cam (clap)\\n(Harlem, I know y\\'all know about this)\\nKilla Cam Cam Killa (Killa!)\\n[Verse 2]\\nYo, I\\'m from where Nicky Barnes got rich as fuck\\nRich and A hit the kitchens then were pitchin\\' up\\nRob Base, Mase, Doug E Fresh switched it up\\nI do both, who am I to fuck tradition up? (Killa!)\\nSo I parked in a tow-away zone\\nChrome...I don\\'t care\\nThat car a throwaway, homes (Killa!)\\nWelcome to Harlem, where you welcome to problems\\nOff of furlough, fellow felons get pardons\\nThem niggas knew we bang\\nStood out like Pootie Tang\\nSoon as the stoolie sings\\nThat when the toolie sing!\\nBang! Bang!\\nCame from that movie ring\\nSnap, crack jewelry bling\\nFlapjack, ooh he bring\\nClack-clack, \"ooh he ring!\"\\nBad rap, cuties cling\\nAss cap, put them in the river\\nI\\'m the sushi king\\nAnd I\\'ma keep ya fresh\\nLet the fish eat ya flesh\\nYes sir, please confess\\nJust say he\\'s the best (Killa!)\\n[Chorus]\\nKilla Cam (sing)\\nKilla Cam Cam (clap)\\nKilla Cam Killa Cam (yes)\\nKilla Cam Cam (it\\'s me, sing)\\nKilla Cam\\nKilla Cam Cam (sing)\\nKilla Killa Killa Cam\\nKilla Cam Cam Killa  (clap, yes sir, uhh)\\nKilla Cam\\nKilla Cam Cam (sing, clap)\\nKilla Cam Killa Cam\\nKilla Cam Cam (it\\'s me)\\nKilla Cam (sing, clap)\\nKilla Cam Cam\\nKilla Killa Killa Cam\\n(Let me end this shit, listen)\\nKilla Cam Cam Killa\\n\\n[Verse 3]\\n(Killa!) Yo\\nHow dope is this?\\nTeach you how to rope a chick\\nWhat you want: coke or piff?\\nGot it all, smoke or sniff? (everything)\\nAnd you know my drift\\nUsed to figures, dough and shit (millions)\\nYou a rooster nigga, just a roaster, bitch\\nAnd I roast ya bitch\\nThat\\'s how it usually ends\\nTell her and her groupie friends\\nGo get their coochie cleansed\\nWe the moody Gucci, Louis and Pucci men\\nEscada, Prada\\nThe chopper it got the Uzi lens\\nBird\\'s-eye view\\nThe birds I knew flip birds\\nBird gangs, it was birds I flew\\nAnd word I blew off herb I grew\\nI would serve on stoops\\nNow swerve in coupes\\nIt\\'s me, sing! Killa, uhh\\n\\n[Chorus]\\nKilla Cam\\nKilla Cam Cam\\nKilla Cam Killa Cam\\nKilla Cam Cam\\nKilla Cam\\nKilla Cam Cam\\nKilla Killa Killa Cam\\nKilla Cam Cam Killa\\nKilla Cam\\nKilla Cam Cam\\nKilla Cam Killa Cam\\nKilla Cam Cam\\nKilla Cam\\nKilla Cam Cam\\nKilla Killa Killa Cam\\nKilla Cam Cam Killa'"
      ]
     },
     "execution_count": 9,
     "metadata": {},
     "output_type": "execute_result"
    }
   ],
   "source": [
    "df['lyrics'].iloc[0]"
   ]
  },
  {
   "cell_type": "code",
   "execution_count": 11,
   "metadata": {},
   "outputs": [],
   "source": [
    "df_filtered = df[df['lyrics'].str.len() <= 1024]"
   ]
  },
  {
   "cell_type": "code",
   "execution_count": 13,
   "metadata": {},
   "outputs": [
    {
     "data": {
      "text/plain": [
       "\"Now if I see it in my dreams\\nIs it for real? Somebody tell me what it means\\nSometimes it ain't really what it seems\\nCause this could all really be a dream\\nIs it a dream? Is it a dream?\\nAm I living what I'm seeing in my sleep?\\nOr is my imagination tripping off some weed?\\nIs this all the shit I really need?\\nIn my dream, is this a dream?\\nWill my dreams make it past here?\\nOr will I always try to do better than last year?\\nI'm not afraid of what the future brings\\nBut this a dream, a vivid dream, it's in my dreams\\nI already see it in my dreams\""
      ]
     },
     "execution_count": 13,
     "metadata": {},
     "output_type": "execute_result"
    }
   ],
   "source": [
    "df_filtered['lyrics'].iloc[0]"
   ]
  },
  {
   "cell_type": "code",
   "execution_count": 14,
   "metadata": {},
   "outputs": [
    {
     "data": {
      "text/plain": [
       "<Axes: xlabel='genre', ylabel='counts'>"
      ]
     },
     "execution_count": 14,
     "metadata": {},
     "output_type": "execute_result"
    },
    {
     "data": {
      "image/png": "[encoded data removed]",
      "text/plain": [
       "<Figure size 640x480 with 1 Axes>"
      ]
     },
     "metadata": {},
     "output_type": "display_data"
    }
   ],
   "source": [
    "df_filtered[\"tag\"].value_counts().plot(kind=\"bar\", xlabel=\"genre\", ylabel=\"counts\", rot=0)"
   ]
  },
  {
   "cell_type": "code",
   "execution_count": 15,
   "metadata": {},
   "outputs": [
    {
     "name": "stdout",
     "output_type": "stream",
     "text": [
      "tag\n",
      "pop        20496\n",
      "rock       10218\n",
      "rap         3545\n",
      "misc        1633\n",
      "rb          1202\n",
      "country     1124\n",
      "Name: count, dtype: int64\n"
     ]
    }
   ],
   "source": [
    "def g(df):\n",
    "  \"\"\"Samples the dataframe uniformly such that the number of elements in each category\n",
    "  is equal to the minimum number of elements across all categories.\n",
    "\n",
    "  Args:\n",
    "      df: The pandas dataframe to be sampled.\n",
    "\n",
    "  Returns:\n",
    "      A new dataframe with a uniform distribution of categories.\n",
    "  \"\"\"\n",
    "  n_sample = min(df['tag'].value_counts())  # Get the minimum count\n",
    "  return df.sample(n_sample, replace=True)  # Sample with replacement to ensure all categories are present\n",
    "\n",
    "result = g(df_filtered.copy())\n",
    "print(result['tag'].value_counts())"
   ]
  },
  {
   "cell_type": "code",
   "execution_count": 17,
   "metadata": {},
   "outputs": [
    {
     "name": "stdout",
     "output_type": "stream",
     "text": [
      "tag\n",
      "pop        688511\n",
      "rock       343476\n",
      "rap        119902\n",
      "misc        56369\n",
      "rb          40922\n",
      "country     38218\n",
      "Name: count, dtype: int64\n"
     ]
    }
   ],
   "source": [
    "print(df_filtered['tag'].value_counts())"
   ]
  },
  {
   "cell_type": "code",
   "execution_count": 16,
   "metadata": {},
   "outputs": [
    {
     "data": {
      "text/plain": [
       "Index(['tag', 'lyrics', 'features'], dtype='object')"
      ]
     },
     "execution_count": 16,
     "metadata": {},
     "output_type": "execute_result"
    }
   ],
   "source": [
    "df.columns"
   ]
  },
  {
   "cell_type": "code",
   "execution_count": 18,
   "metadata": {},
   "outputs": [],
   "source": [
    "import pandas as pd\n",
    "\n",
    "def balanced_sample(dataframe, column_name, sample_size=500):\n",
    "  \"\"\"\n",
    "  Samples a dataframe such that each category in a specific column has a desired sample size.\n",
    "\n",
    "  Args:\n",
    "      dataframe: The pandas dataframe to sample from.\n",
    "      column_name: The name of the column containing the categories.\n",
    "      sample_size: The desired number of rows for each category (default: 800).\n",
    "\n",
    "  Returns:\n",
    "      A new dataframe containing the balanced sample.\n",
    "  \"\"\"\n",
    "  balanced_df = pd.DataFrame()\n",
    "  for category in dataframe[column_name].unique():\n",
    "    category_df = dataframe[dataframe[column_name] == category]\n",
    "    if len(category_df) >= sample_size:\n",
    "      balanced_df = pd.concat([balanced_df, category_df.sample(sample_size)])\n",
    "    else:\n",
    "      balanced_df = pd.concat([balanced_df, category_df])\n",
    "  return balanced_df\n",
    "\n",
    "# Example usage\n",
    "# Assuming you have a pandas dataframe 'df'\n",
    "sampled_df = balanced_sample(df_filtered, \"tag\")\n"
   ]
  },
  {
   "cell_type": "code",
   "execution_count": 21,
   "metadata": {},
   "outputs": [],
   "source": [
    "sampled_df[['tag', 'lyrics']].to_csv('data/small_songs_lyrics.csv', index=False)"
   ]
  },
  {
   "cell_type": "code",
   "execution_count": null,
   "metadata": {},
   "outputs": [],
   "source": []
  }
 ],
 "metadata": {
  "kernelspec": {
   "display_name": "Python 3",
   "language": "python",
   "name": "python3"
  },
  "language_info": {
   "codemirror_mode": {
    "name": "ipython",
    "version": 3
   },
   "file_extension": ".py",
   "mimetype": "text/x-python",
   "name": "python",
   "nbconvert_exporter": "python",
   "pygments_lexer": "ipython3",
   "version": "3.12.2"
  }
 },
 "nbformat": 4,
 "nbformat_minor": 2
}
